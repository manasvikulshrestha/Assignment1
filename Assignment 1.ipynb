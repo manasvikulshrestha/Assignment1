{
 "cells": [
  {
   "cell_type": "markdown",
   "id": "0073000d-8f8f-48f8-8cf5-9b673dd32975",
   "metadata": {},
   "source": [
    "Q1. Create one variable containing following type of data: \n",
    "(i) string "
   ]
  },
  {
   "cell_type": "code",
   "execution_count": 1,
   "id": "a3e1218a-25c3-47cd-b173-682ea9cfce56",
   "metadata": {},
   "outputs": [
    {
     "data": {
      "text/plain": [
       "'This is a string'"
      ]
     },
     "execution_count": 1,
     "metadata": {},
     "output_type": "execute_result"
    }
   ],
   "source": [
    "my_str= 'This is a string'\n",
    "my_str"
   ]
  },
  {
   "cell_type": "markdown",
   "id": "3a38518b-67ee-4dd4-8a2c-4f7982506746",
   "metadata": {},
   "source": [
    "(ii) list "
   ]
  },
  {
   "cell_type": "code",
   "execution_count": 2,
   "id": "23ab0b14-2ddb-4b5f-830d-affb37ada4eb",
   "metadata": {},
   "outputs": [
    {
     "data": {
      "text/plain": [
       "[1, 23, 15, 23, 'k', 'm', 'beach', 19.2]"
      ]
     },
     "execution_count": 2,
     "metadata": {},
     "output_type": "execute_result"
    }
   ],
   "source": [
    "my_list=[1,23,15,23,'k','m','beach',19.2]\n",
    "my_list"
   ]
  },
  {
   "cell_type": "markdown",
   "id": "d4575099-19a6-4ae8-a169-77a3732a2cbe",
   "metadata": {},
   "source": [
    "(iii) float"
   ]
  },
  {
   "cell_type": "code",
   "execution_count": 3,
   "id": "90554bb9-5b2a-4c3f-9f0c-db0e24a916eb",
   "metadata": {},
   "outputs": [
    {
     "data": {
      "text/plain": [
       "23.27"
      ]
     },
     "execution_count": 3,
     "metadata": {},
     "output_type": "execute_result"
    }
   ],
   "source": [
    "f=23.27\n",
    "f"
   ]
  },
  {
   "cell_type": "markdown",
   "id": "3259acba-63ad-4801-8ffe-490a0e9da27f",
   "metadata": {},
   "source": [
    "(iv) tuple "
   ]
  },
  {
   "cell_type": "code",
   "execution_count": 4,
   "id": "6e5f9def-a968-41b4-9831-e69264084ba8",
   "metadata": {},
   "outputs": [
    {
     "data": {
      "text/plain": [
       "(1, 2, 3, 's')"
      ]
     },
     "execution_count": 4,
     "metadata": {},
     "output_type": "execute_result"
    }
   ],
   "source": [
    "t=(1,2,3,'s')\n",
    "t"
   ]
  },
  {
   "cell_type": "markdown",
   "id": "b7b06c61-a5bc-4303-9524-c86c8c7aff29",
   "metadata": {},
   "source": [
    "\n",
    "\n",
    "\n",
    "\n",
    "Q2. Given are some following variables containing data: \n",
    "(i) var1 = '' \n",
    "str\n",
    "\n",
    "(ii) var2 = '[ DS , ML , Python]'\n",
    "str\n",
    "\n",
    "(iii) var3 = [ 'DS' , 'ML' , 'Python' ] \n",
    "list\n",
    "\n",
    "(iv) var4 = 1\n",
    "int\n"
   ]
  },
  {
   "cell_type": "code",
   "execution_count": 5,
   "id": "84a21bfe-a00b-4bf3-937e-e11965ea62c2",
   "metadata": {},
   "outputs": [
    {
     "data": {
      "text/plain": [
       "str"
      ]
     },
     "execution_count": 5,
     "metadata": {},
     "output_type": "execute_result"
    }
   ],
   "source": [
    "var1 = '' \n",
    "type(var1)"
   ]
  },
  {
   "cell_type": "code",
   "execution_count": 6,
   "id": "3320f09c-10c2-4cf1-b660-681a0ddee386",
   "metadata": {},
   "outputs": [
    {
     "data": {
      "text/plain": [
       "str"
      ]
     },
     "execution_count": 6,
     "metadata": {},
     "output_type": "execute_result"
    }
   ],
   "source": [
    "var2 = '[ DS , ML , Python]'\n",
    "type(var2)"
   ]
  },
  {
   "cell_type": "code",
   "execution_count": 8,
   "id": "b3280949-1d16-4e8a-a96f-106c4a6b943a",
   "metadata": {},
   "outputs": [
    {
     "data": {
      "text/plain": [
       "list"
      ]
     },
     "execution_count": 8,
     "metadata": {},
     "output_type": "execute_result"
    }
   ],
   "source": [
    "var3 = [ 'DS' , 'ML' , 'Python' ] \n",
    "type(var3)"
   ]
  },
  {
   "cell_type": "code",
   "execution_count": 9,
   "id": "470ea2da-79ba-4951-94b0-6f6bccfad8e9",
   "metadata": {},
   "outputs": [
    {
     "data": {
      "text/plain": [
       "int"
      ]
     },
     "execution_count": 9,
     "metadata": {},
     "output_type": "execute_result"
    }
   ],
   "source": [
    "var4 = 1\n",
    "type(var4)"
   ]
  },
  {
   "cell_type": "markdown",
   "id": "40f5bdcf-7916-4fe4-b1d4-a5a6cebbe180",
   "metadata": {},
   "source": [
    "\n",
    "\n",
    "\n",
    "Q3. Explain the use of the following operators using an example: \n",
    "\n",
    "(i) / \n",
    "ANS: Arithmetic operator, returns a decimal value of the quotient\n",
    "\n",
    "(ii) %  \n",
    "ANS: Arithmetic operator, returns the value of the remainder\n",
    "\n",
    "\n",
    "(iii) // \n",
    "ANS: Arithmetic operator, returns the floor value of the quotient\n",
    "\n",
    "\n",
    "(iv) **\n",
    "ANS: Arithmetic operator, works as an exponentiation operator\n"
   ]
  },
  {
   "cell_type": "code",
   "execution_count": 10,
   "id": "47d12827-df6a-498c-8d68-7fa2c6bfb5fc",
   "metadata": {},
   "outputs": [
    {
     "data": {
      "text/plain": [
       "3.75"
      ]
     },
     "execution_count": 10,
     "metadata": {},
     "output_type": "execute_result"
    }
   ],
   "source": [
    "c=15/4\n",
    "c"
   ]
  },
  {
   "cell_type": "code",
   "execution_count": 11,
   "id": "ebbb0560-865f-441a-ae70-f262179361cf",
   "metadata": {},
   "outputs": [
    {
     "data": {
      "text/plain": [
       "3"
      ]
     },
     "execution_count": 11,
     "metadata": {},
     "output_type": "execute_result"
    }
   ],
   "source": [
    "c=15%4\n",
    "c"
   ]
  },
  {
   "cell_type": "code",
   "execution_count": 12,
   "id": "f9975e50-f34f-4c1d-a9a3-1df2720caf4e",
   "metadata": {},
   "outputs": [
    {
     "data": {
      "text/plain": [
       "3"
      ]
     },
     "execution_count": 12,
     "metadata": {},
     "output_type": "execute_result"
    }
   ],
   "source": [
    "c=15//4\n",
    "c"
   ]
  },
  {
   "cell_type": "code",
   "execution_count": 13,
   "id": "0c2c4954-4dad-43ce-8478-c5ed33f8cf23",
   "metadata": {},
   "outputs": [
    {
     "data": {
      "text/plain": [
       "625"
      ]
     },
     "execution_count": 13,
     "metadata": {},
     "output_type": "execute_result"
    }
   ],
   "source": [
    "c=5**4\n",
    "c"
   ]
  },
  {
   "cell_type": "markdown",
   "id": "aa3bf1f8-79fd-4ed6-8c7f-996b92f5e9c7",
   "metadata": {},
   "source": [
    "\n",
    "\n",
    "\n",
    "Q4. Create a list of length 10 of your choice containing multiple types of data. Using for loop print the  element and its data type. \n"
   ]
  },
  {
   "cell_type": "code",
   "execution_count": 14,
   "id": "80ed498b-8c7c-4c90-8514-4d9cbf4fc0b8",
   "metadata": {},
   "outputs": [
    {
     "name": "stdout",
     "output_type": "stream",
     "text": [
      "15\n",
      "23\n",
      "27\n",
      "puppy\n",
      "[1, 2]\n",
      "19.2\n",
      "(1, 3)\n",
      "egg is boiled\n",
      "19.2\n",
      "23\n"
     ]
    }
   ],
   "source": [
    "l=[15,23,27,'puppy',[1,2],19.2,(1,3),'egg is boiled',19.2,23]\n",
    "for i in l:\n",
    "  print(i)"
   ]
  },
  {
   "cell_type": "markdown",
   "id": "cc7b06f8-2085-4f1f-8975-500afca058db",
   "metadata": {},
   "source": [
    "\n",
    "\n",
    "\n",
    "Q5. Using a while loop, verify if the number A is purely divisible by number B and if so then how many  times it can be divisible. \n"
   ]
  },
  {
   "cell_type": "code",
   "execution_count": 15,
   "id": "b48ad029-ac43-420f-bd7a-1a5ff98dcc99",
   "metadata": {},
   "outputs": [
    {
     "name": "stdin",
     "output_type": "stream",
     "text": [
      " 16\n",
      " 3\n"
     ]
    },
    {
     "name": "stdout",
     "output_type": "stream",
     "text": [
      "16  is not divisible by  3\n"
     ]
    }
   ],
   "source": [
    "A=int(input())\n",
    "B=int(input())\n",
    "t=A\n",
    "c=0\n",
    "while A%B==0:\n",
    "  A/=B\n",
    "  c+=1\n",
    "if c==0:\n",
    "  print(t,\" is not divisible by \",B)\n",
    "else:\n",
    "  print(t,\" is \",c,\" times divisible by \",B)"
   ]
  },
  {
   "cell_type": "markdown",
   "id": "f22be432-fcf6-4275-8ba2-4f428ceb9d97",
   "metadata": {},
   "source": [
    "\n",
    "\n",
    "\n",
    "Q6. Create a list containing 25 int type data. Using for loop and if-else condition print if the element is  divisible by 3 or not. \t\n"
   ]
  },
  {
   "cell_type": "code",
   "execution_count": 16,
   "id": "e800d8d4-4c03-40b5-b3c8-cffe8be89adb",
   "metadata": {},
   "outputs": [
    {
     "name": "stdout",
     "output_type": "stream",
     "text": [
      "1 is not divisible by 3\n",
      "2 is not divisible by 3\n",
      "3 is divisible by 3\n",
      "4 is not divisible by 3\n",
      "5 is not divisible by 3\n",
      "6 is divisible by 3\n",
      "7 is not divisible by 3\n",
      "8 is not divisible by 3\n",
      "9 is divisible by 3\n",
      "10 is not divisible by 3\n",
      "11 is not divisible by 3\n",
      "12 is divisible by 3\n",
      "13 is not divisible by 3\n",
      "14 is not divisible by 3\n",
      "15 is divisible by 3\n",
      "16 is not divisible by 3\n",
      "17 is not divisible by 3\n",
      "18 is divisible by 3\n",
      "19 is not divisible by 3\n",
      "20 is not divisible by 3\n",
      "21 is divisible by 3\n",
      "22 is not divisible by 3\n",
      "23 is not divisible by 3\n",
      "24 is divisible by 3\n",
      "25 is not divisible by 3\n"
     ]
    }
   ],
   "source": [
    "l=list(range(1,26))\n",
    "for i in l:\n",
    "  if i%3==0:\n",
    "    print(i,\"is divisible by 3\")\n",
    "  else:\n",
    "    print(i,\"is not divisible by 3\")"
   ]
  },
  {
   "cell_type": "markdown",
   "id": "43af373d-0894-4a37-8a5c-c27efc9af4d6",
   "metadata": {},
   "source": [
    "\n",
    "\n",
    "\n",
    "\n",
    "Q7. What do you understand about mutable and immutable data types? Give examples for both showing  this property. \n",
    "\n",
    "Mutable data types in Python are those whose value can be changed in place after they have been created.\n",
    "Eg: lists\n",
    "\n",
    "Immutable data types are those, whose values cannot be modified once they are created.\n",
    "Eg: strings\n",
    "\n"
   ]
  },
  {
   "cell_type": "code",
   "execution_count": 17,
   "id": "e3e59452-64f4-4aac-aa8c-2bbe0aff61d1",
   "metadata": {},
   "outputs": [
    {
     "name": "stdout",
     "output_type": "stream",
     "text": [
      "[1, 2, 3, 9, 7]\n",
      "[1, 2, 3, 4, 7]\n"
     ]
    }
   ],
   "source": [
    "mylist=[1,2,3,9,7]\n",
    "print(mylist)\n",
    "mylist[3]=4\n",
    "print(mylist)"
   ]
  },
  {
   "cell_type": "code",
   "execution_count": 20,
   "id": "95be98d0-58a7-4993-b6be-4f713e71651d",
   "metadata": {},
   "outputs": [
    {
     "name": "stdout",
     "output_type": "stream",
     "text": [
      "I am a student\n"
     ]
    },
    {
     "ename": "TypeError",
     "evalue": "'str' object does not support item assignment",
     "output_type": "error",
     "traceback": [
      "\u001b[0;31m---------------------------------------------------------------------------\u001b[0m",
      "\u001b[0;31mTypeError\u001b[0m                                 Traceback (most recent call last)",
      "Cell \u001b[0;32mIn[20], line 3\u001b[0m\n\u001b[1;32m      1\u001b[0m st\u001b[38;5;241m=\u001b[39m\u001b[38;5;124m'\u001b[39m\u001b[38;5;124mI am a student\u001b[39m\u001b[38;5;124m'\u001b[39m\n\u001b[1;32m      2\u001b[0m \u001b[38;5;28mprint\u001b[39m(st)\n\u001b[0;32m----> 3\u001b[0m \u001b[43mst\u001b[49m\u001b[43m[\u001b[49m\u001b[38;5;241;43m2\u001b[39;49m\u001b[43m]\u001b[49m\u001b[38;5;241m=\u001b[39m\u001b[38;5;124m'\u001b[39m\u001b[38;5;124mb\u001b[39m\u001b[38;5;124m'\u001b[39m\n\u001b[1;32m      4\u001b[0m \u001b[38;5;28mprint\u001b[39m(st)\n",
      "\u001b[0;31mTypeError\u001b[0m: 'str' object does not support item assignment"
     ]
    }
   ],
   "source": [
    "st='I am a student'\n",
    "print(st)\n",
    "st[2]='b'\n",
    "print(st)"
   ]
  }
 ],
 "metadata": {
  "kernelspec": {
   "display_name": "Python 3 (ipykernel)",
   "language": "python",
   "name": "python3"
  },
  "language_info": {
   "codemirror_mode": {
    "name": "ipython",
    "version": 3
   },
   "file_extension": ".py",
   "mimetype": "text/x-python",
   "name": "python",
   "nbconvert_exporter": "python",
   "pygments_lexer": "ipython3",
   "version": "3.10.8"
  }
 },
 "nbformat": 4,
 "nbformat_minor": 5
}
